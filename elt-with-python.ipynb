{
 "cells": [
  {
   "cell_type": "markdown",
   "metadata": {},
   "source": [
    "# 1. Preparation"
   ]
  },
  {
   "cell_type": "markdown",
   "metadata": {},
   "source": [
    "- Prepare Data Source\n",
    "    - Run docker compose from source\n",
    "      ```\n",
    "      cd source\n",
    "      ```\n",
    "      ```\n",
    "      docker-compose up -d\n",
    "      ```\n",
    "  \n",
    "- Prepare Data Warehouse\n",
    "    - Run docker compose from dwh\n",
    "      ```\n",
    "      cd dwh\n",
    "      ```\n",
    "      ```\n",
    "      docker-compose up -d\n",
    "      ```"
   ]
  },
  {
   "cell_type": "markdown",
   "metadata": {},
   "source": [
    "- Create Connection to Data Source & Data Warehouse"
   ]
  },
  {
   "cell_type": "code",
   "execution_count": 1,
   "metadata": {},
   "outputs": [],
   "source": [
    "import psycopg2\n",
    "import pandas as pd\n",
    "import warnings\n",
    "warnings.filterwarnings('ignore')\n",
    "\n",
    "conn_src = psycopg2.connect(database=\"mini_order\",\n",
    "                              host=\"localhost\",\n",
    "                              user=\"postgres\",\n",
    "                              password=\"mypassword\",\n",
    "                              port=\"5433\")\n",
    "cur_src = conn_src.cursor()\n",
    "\n",
    "conn_dwh = psycopg2.connect(database=\"dwh\",\n",
    "                              host=\"localhost\",\n",
    "                              user=\"postgres\",\n",
    "                              password=\"mypassword\",\n",
    "                              port=\"5434\")\n",
    "cur_dwh = conn_dwh.cursor()"
   ]
  },
  {
   "cell_type": "markdown",
   "metadata": {},
   "source": [
    "- Define Schema & Relation for Staging and Final Area"
   ]
  },
  {
   "cell_type": "code",
   "execution_count": 2,
   "metadata": {},
   "outputs": [],
   "source": [
    "def read_sql_file(file_path):\n",
    "    try:\n",
    "        with open(file_path, 'r') as file:\n",
    "            sql_string = file.read()\n",
    "        return sql_string\n",
    "    except Exception as e:\n",
    "        print(f\"Error reading SQL file: {e}\")\n",
    "        return None\n",
    "\n",
    "file_path = './helper/db_init/dwh-stg-prod.sql'\n",
    "sql_string = read_sql_file(file_path)"
   ]
  },
  {
   "cell_type": "code",
   "execution_count": 3,
   "metadata": {},
   "outputs": [],
   "source": [
    "# Define the query\n",
    "query = f\"\"\"\n",
    "{sql_string}\n",
    "\"\"\"\n",
    "\n",
    "# Execute the query\n",
    "cur_dwh.execute(query)\n",
    "\n",
    "# Commit the transaction\n",
    "conn_dwh.commit()"
   ]
  },
  {
   "cell_type": "markdown",
   "metadata": {},
   "source": [
    "# 2. Extract & Load"
   ]
  },
  {
   "cell_type": "markdown",
   "metadata": {},
   "source": [
    "## 2.1. Extract"
   ]
  },
  {
   "cell_type": "markdown",
   "metadata": {},
   "source": [
    "- Create function to store data from data source & data warehouse into Dataframe"
   ]
  },
  {
   "cell_type": "code",
   "execution_count": 4,
   "metadata": {},
   "outputs": [],
   "source": [
    "def get_table_data(table_name, engine):\n",
    "    try:\n",
    "        query = f\"SELECT * FROM {table_name};\"\n",
    "        df = pd.read_sql(query, engine)\n",
    "        \n",
    "        return df\n",
    "\n",
    "    except Exception as e:\n",
    "        print(f\"Error: {e}\")\n",
    "        \n",
    "        return pd.DataFrame()"
   ]
  },
  {
   "cell_type": "markdown",
   "metadata": {},
   "source": [
    "- Extract from data sources & destination (dwh) to get updated data.\n",
    "- Why we need extract data from data warehouse also?\n",
    "    - Because we need to get the latest data from data warehouse.\n",
    "    - It will compare with the latest data from data sources"
   ]
  },
  {
   "cell_type": "markdown",
   "metadata": {},
   "source": [
    "- Extract from data sources"
   ]
  },
  {
   "cell_type": "code",
   "execution_count": 5,
   "metadata": {},
   "outputs": [],
   "source": [
    "src_category = get_table_data('category', conn_src)\n",
    "src_customer = get_table_data('customer', conn_src)\n",
    "src_order_detail = get_table_data('order_detail', conn_src)\n",
    "src_orders = get_table_data('orders', conn_src)\n",
    "src_product = get_table_data('product', conn_src)\n",
    "src_subcategory = get_table_data('subcategory', conn_src)"
   ]
  },
  {
   "cell_type": "markdown",
   "metadata": {},
   "source": [
    "- Extract from data warehouse\n",
    "- After data stored in dataframe, drop uuid columns. Because uuid doesnt exist in data sources."
   ]
  },
  {
   "cell_type": "code",
   "execution_count": 6,
   "metadata": {},
   "outputs": [],
   "source": [
    "stg_category = get_table_data('stg.category', conn_dwh).drop('uuid', axis=1)\n",
    "stg_customer = get_table_data('stg.customer', conn_dwh).drop('uuid', axis=1)\n",
    "stg_order_detail = get_table_data('stg.order_detail', conn_dwh).drop('uuid', axis=1)\n",
    "stg_orders = get_table_data('stg.orders', conn_dwh).drop('uuid', axis=1)\n",
    "stg_product = get_table_data('stg.product', conn_dwh).drop('uuid', axis=1)\n",
    "stg_subcategory = get_table_data('stg.subcategory', conn_dwh).drop('uuid', axis=1)"
   ]
  },
  {
   "cell_type": "markdown",
   "metadata": {},
   "source": [
    "- Create function to compare data between sources and data warehouse (staging). This function will get updated data.\n",
    "- Updated data will be loaded into data warehouse (staging)"
   ]
  },
  {
   "cell_type": "code",
   "execution_count": 7,
   "metadata": {},
   "outputs": [],
   "source": [
    "def compare(df1, df2):\n",
    "    df = pd.concat([df1, df2])\n",
    "    df = df.drop_duplicates(keep = False)\n",
    "    \n",
    "    return df"
   ]
  },
  {
   "cell_type": "markdown",
   "metadata": {},
   "source": [
    "- Get the difference data"
   ]
  },
  {
   "cell_type": "code",
   "execution_count": 8,
   "metadata": {},
   "outputs": [],
   "source": [
    "category = compare(src_category, stg_category)\n",
    "customer = compare(src_customer, stg_customer)\n",
    "order_detail = compare(src_order_detail, stg_order_detail)\n",
    "orders = compare(src_orders, stg_orders)\n",
    "product = compare(src_product, stg_product)\n",
    "subcategory = compare(src_subcategory, stg_subcategory)"
   ]
  },
  {
   "cell_type": "markdown",
   "metadata": {},
   "source": [
    "## 2.2. Load"
   ]
  },
  {
   "cell_type": "markdown",
   "metadata": {},
   "source": [
    "- Load updated data to data warehouse"
   ]
  },
  {
   "cell_type": "markdown",
   "metadata": {},
   "source": [
    "- `category` Table"
   ]
  },
  {
   "cell_type": "code",
   "execution_count": 9,
   "metadata": {},
   "outputs": [],
   "source": [
    "for index, row in category.iterrows():\n",
    "    # Extract values from the DataFrame row\n",
    "    name = row['name']\n",
    "    description = row['description']\n",
    "    created_at = row['created_at']\n",
    "    updated_at = row['updated_at']\n",
    "\n",
    "    # Construct the SQL INSERT query\n",
    "    insert_query = f\"\"\"\n",
    "    INSERT INTO stg.category \n",
    "    (name, description, created_at, updated_at) \n",
    "    VALUES \n",
    "    ('{name}', '{description}', '{created_at}', '{updated_at}');\n",
    "    \"\"\"\n",
    "\n",
    "    # Execute the INSERT query\n",
    "    cur_dwh.execute(insert_query)\n",
    "\n",
    "# Commit the transaction\n",
    "conn_dwh.commit()"
   ]
  },
  {
   "cell_type": "markdown",
   "metadata": {},
   "source": [
    "- `subcategory` Tables"
   ]
  },
  {
   "cell_type": "code",
   "execution_count": 10,
   "metadata": {},
   "outputs": [],
   "source": [
    "for index, row in subcategory.iterrows():\n",
    "    # Extract values from the DataFrame row\n",
    "    name = row['name']\n",
    "    category_id = row['category_id']\n",
    "    description = row['description']\n",
    "    created_at = row['created_at']\n",
    "    updated_at = row['updated_at']\n",
    "    \n",
    "    \n",
    "    # Construct the SQL INSERT query\n",
    "    insert_query = f\"\"\"\n",
    "    INSERT INTO stg.subcategory \n",
    "    (name, category_id, description, created_at, updated_at) \n",
    "    VALUES \n",
    "    ('{name}', '{category_id}', '{description}', '{created_at}', '{updated_at}');\n",
    "    \"\"\"\n",
    "\n",
    "    # Execute the INSERT query\n",
    "    cur_dwh.execute(insert_query)\n",
    "\n",
    "# Commit the transaction\n",
    "conn_dwh.commit()"
   ]
  },
  {
   "cell_type": "markdown",
   "metadata": {},
   "source": [
    "- `customer` Tables"
   ]
  },
  {
   "cell_type": "code",
   "execution_count": 11,
   "metadata": {},
   "outputs": [],
   "source": [
    "for index, row in customer.iterrows():\n",
    "    # Extract values from the DataFrame row\n",
    "    first_name = row['first_name']\n",
    "    last_name = row['last_name']\n",
    "    email = row['email']\n",
    "    phone = row['phone']\n",
    "    address = row['address']\n",
    "    created_at = row['created_at']\n",
    "    updated_at = row['updated_at']\n",
    "\n",
    "    # Construct the SQL INSERT query\n",
    "    insert_query = f\"\"\"\n",
    "    INSERT INTO stg.customer \n",
    "    (first_name, last_name, email, phone, address, created_at, updated_at) \n",
    "    VALUES \n",
    "    ('{first_name}', '{last_name}', '{email}', '{phone}', '{address}', '{created_at}', '{updated_at}');\n",
    "    \"\"\"\n",
    "\n",
    "    # Execute the INSERT query\n",
    "    cur_dwh.execute(insert_query)\n",
    "\n",
    "# Commit the transaction\n",
    "conn_dwh.commit()"
   ]
  },
  {
   "cell_type": "markdown",
   "metadata": {},
   "source": [
    "- `orders` Tables"
   ]
  },
  {
   "cell_type": "code",
   "execution_count": 12,
   "metadata": {},
   "outputs": [],
   "source": [
    "for index, row in orders.iterrows():\n",
    "    # Extract values from the DataFrame row\n",
    "    order_id = row['order_id']\n",
    "    customer_id = row['customer_id']\n",
    "    order_date = row['order_date']\n",
    "    status = row['status']\n",
    "    created_at = row['created_at']\n",
    "    updated_at = row['updated_at']\n",
    "\n",
    "    # Construct the SQL INSERT query\n",
    "    insert_query = f\"\"\"\n",
    "    INSERT INTO stg.orders \n",
    "    (order_id, customer_id, order_date, status, created_at, updated_at) \n",
    "    VALUES \n",
    "    ('{order_id}', '{customer_id}', '{order_date}', '{status}', '{created_at}', '{updated_at}');\n",
    "    \"\"\"\n",
    "\n",
    "    # Execute the INSERT query\n",
    "    cur_dwh.execute(insert_query)\n",
    "\n",
    "# Commit the transaction\n",
    "conn_dwh.commit()"
   ]
  },
  {
   "cell_type": "markdown",
   "metadata": {},
   "source": [
    "- `product` Tables"
   ]
  },
  {
   "cell_type": "code",
   "execution_count": 13,
   "metadata": {},
   "outputs": [],
   "source": [
    "for index, row in product.iterrows():\n",
    "    # Extract values from the DataFrame row\n",
    "    product_id = row['product_id']\n",
    "    name = row['name']\n",
    "    subcategory_id = row['subcategory_id']\n",
    "    price = row['price']\n",
    "    stock = row['stock']\n",
    "    created_at = row['created_at']\n",
    "    updated_at = row['updated_at']\n",
    "\n",
    "    # Construct the SQL INSERT query\n",
    "    insert_query = f\"\"\"\n",
    "    INSERT INTO stg.product \n",
    "    (product_id, name, subcategory_id, price, stock, created_at, updated_at) \n",
    "    VALUES \n",
    "    ('{product_id}', '{name}', {subcategory_id}, {price}, {stock}, '{created_at}', '{updated_at}');\n",
    "    \"\"\"\n",
    "\n",
    "    # Execute the INSERT query\n",
    "    cur_dwh.execute(insert_query)\n",
    "\n",
    "# Commit the transaction\n",
    "conn_dwh.commit()"
   ]
  },
  {
   "cell_type": "markdown",
   "metadata": {},
   "source": [
    "- `order_detail` Tables"
   ]
  },
  {
   "cell_type": "code",
   "execution_count": 14,
   "metadata": {},
   "outputs": [],
   "source": [
    "for index, row in order_detail.iterrows():\n",
    "    # Extract values from the DataFrame row\n",
    "    order_id = row['order_id']\n",
    "    product_id = row['product_id']\n",
    "    quantity = row['quantity']\n",
    "    price = row['price']\n",
    "    created_at = row['created_at']\n",
    "    updated_at = row['updated_at']\n",
    "\n",
    "    # Construct the SQL INSERT query\n",
    "    insert_query = f\"\"\"\n",
    "    INSERT INTO stg.order_detail \n",
    "    (order_id, product_id, quantity, price, created_at, updated_at) \n",
    "    VALUES \n",
    "    ('{order_id}', '{product_id}', '{quantity}', '{price}', '{created_at}', '{updated_at}');\n",
    "    \"\"\"\n",
    "\n",
    "    # Execute the INSERT query\n",
    "    cur_dwh.execute(insert_query)\n",
    "\n",
    "# Commit the transaction\n",
    "conn_dwh.commit()"
   ]
  },
  {
   "cell_type": "markdown",
   "metadata": {},
   "source": [
    "# 3. Transform"
   ]
  },
  {
   "cell_type": "markdown",
   "metadata": {},
   "source": [
    "## 3.1. dim_customer"
   ]
  },
  {
   "cell_type": "code",
   "execution_count": 15,
   "metadata": {},
   "outputs": [],
   "source": [
    "# Construct the SQL INSERT query\n",
    "insert_query = f\"\"\"\n",
    "INSERT INTO prod.dim_customer (\n",
    "    customer_id,\n",
    "\tcustomer_nk,\n",
    "    first_name,\n",
    "    last_name,\n",
    "    email,\n",
    "    phone,\n",
    "    address,\n",
    "    created_at,\n",
    "    updated_at\n",
    ")\n",
    "\n",
    "SELECT\n",
    "    c.uuid AS customer_id,\n",
    "\tc.customer_id AS customer_nk,\n",
    "    c.first_name,\n",
    "    c.last_name,\n",
    "    c.email,\n",
    "    c.phone,\n",
    "    c.address,\n",
    "    c.created_at,\n",
    "    c.updated_at\n",
    "FROM\n",
    "    stg.customer c\n",
    "    \n",
    "WHERE NOT EXISTS (\n",
    "    SELECT 1\n",
    "    FROM prod.dim_customer t\n",
    "    WHERE t.first_name = c.first_name\n",
    "    AND t.last_name = c.last_name \n",
    "    AND t.email = c.email\n",
    "    AND t.phone = c.phone \n",
    "    AND t.address = c.address\n",
    "    AND t.created_at = c.created_at\n",
    "    AND t.updated_at = c.updated_at\n",
    ");\n",
    "\"\"\"\n",
    "\n",
    "# Execute the INSERT query\n",
    "cur_dwh.execute(insert_query)\n",
    "\n",
    "# Commit the transaction\n",
    "conn_dwh.commit()"
   ]
  },
  {
   "cell_type": "markdown",
   "metadata": {},
   "source": [
    "## 3.2. dim_product"
   ]
  },
  {
   "cell_type": "code",
   "execution_count": 16,
   "metadata": {},
   "outputs": [],
   "source": [
    "# Construct the SQL INSERT query\n",
    "insert_query = f\"\"\"\n",
    "INSERT INTO prod.dim_product (\n",
    "    product_id,\n",
    "\tproduct_nk,\n",
    "    \"name\",\n",
    "    price,\n",
    "    stock,\n",
    "    category_name,\n",
    "    category_desc,\n",
    "    subcategory_name,\n",
    "    subcategory_desc,\n",
    "    created_at,\n",
    "    updated_at\n",
    ")\n",
    "\n",
    "SELECT\n",
    "    p.uuid AS product_id,\n",
    "\tp.product_id AS product_nk,\n",
    "    p.\"name\",\n",
    "    p.price,\n",
    "    p.stock,\n",
    "    c.\"name\" AS category_name,\n",
    "    c.description AS category_desc,\n",
    "    s.\"name\" AS subcategory_name,\n",
    "    s.description AS subcategory_desc,\n",
    "    p.created_at,\n",
    "    p.updated_at\n",
    "FROM\n",
    "    stg.product p\n",
    "    \n",
    "INNER JOIN\n",
    "    stg.subcategory s ON p.subcategory_id = s.subcategory_id\n",
    "INNER JOIN\n",
    "    stg.category c ON s.category_id = c.category_id\n",
    "    \n",
    "WHERE NOT EXISTS (\n",
    "    SELECT 1\n",
    "    FROM prod.dim_product t\n",
    "    WHERE t.\"name\" = p.\"name\"\n",
    "    AND t.price = p.price\n",
    "    AND t.stock = p.stock\n",
    "    AND t.category_name = c.\"name\"\n",
    "    AND t.category_desc = c.description\n",
    "    AND t.subcategory_name = s.\"name\"\n",
    "    AND t.subcategory_desc = s.description\n",
    "    AND t.created_at = p.created_at\n",
    "    AND t.updated_at = p.updated_at\n",
    ");\n",
    "\"\"\"\n",
    "\n",
    "# Execute the INSERT query\n",
    "cur_dwh.execute(insert_query)\n",
    "\n",
    "# Commit the transaction\n",
    "conn_dwh.commit()"
   ]
  },
  {
   "cell_type": "markdown",
   "metadata": {},
   "source": [
    "## 3.3. fact_order"
   ]
  },
  {
   "cell_type": "code",
   "execution_count": 17,
   "metadata": {},
   "outputs": [],
   "source": [
    "# Construct the SQL INSERT query\n",
    "insert_query = f\"\"\"\n",
    "INSERT INTO prod.fact_order (\n",
    "    order_id,\n",
    "    product_id,\n",
    "    customer_id,\n",
    "    order_date,\n",
    "    quantity,\n",
    "    status,\n",
    "    created_at,\n",
    "    updated_at\n",
    ")\n",
    "\n",
    "SELECT\n",
    "\tod.uuid as order_id,\n",
    "\tdp.product_id,\n",
    "\tdc.customer_id,\n",
    "\tdd.date_id as order_date,\n",
    "\tod.quantity,\n",
    "\to.status,\n",
    "\to.created_at,\n",
    "\to.updated_at\n",
    "FROM\n",
    "    stg.order_detail od\n",
    "    \n",
    "INNER join \n",
    "    stg.orders o ON od.order_id = o.order_id\n",
    "INNER join \n",
    "    prod.dim_customer dc ON o.customer_id = dc.customer_nk\n",
    "INNER join \n",
    "\tprod.dim_product dp on od.product_id = dp.product_nk \n",
    "INNER join \n",
    "\tprod.dim_date dd on o.order_date = dd.date_actual\n",
    "    \n",
    "WHERE NOT EXISTS (\n",
    "    SELECT 1\n",
    "    FROM prod.fact_order t\n",
    "    WHERE t.\"order_id\" = od.uuid\n",
    "    AND t.product_id = dp.product_id\n",
    "    AND t.customer_id = dc.customer_id\n",
    "    AND t.order_date = dd.date_id\n",
    "    AND t.quantity = od.quantity\n",
    "    AND t.status = o.status\n",
    "    AND t.created_at = o.created_at\n",
    "    AND t.updated_at = o.updated_at\n",
    ");\n",
    "\"\"\"\n",
    "\n",
    "# Execute the INSERT query\n",
    "cur_dwh.execute(insert_query)\n",
    "\n",
    "# Commit the transaction\n",
    "conn_dwh.commit()"
   ]
  }
 ],
 "metadata": {
  "kernelspec": {
   "display_name": ".venv",
   "language": "python",
   "name": "python3"
  },
  "language_info": {
   "codemirror_mode": {
    "name": "ipython",
    "version": 3
   },
   "file_extension": ".py",
   "mimetype": "text/x-python",
   "name": "python",
   "nbconvert_exporter": "python",
   "pygments_lexer": "ipython3",
   "version": "3.10.12"
  }
 },
 "nbformat": 4,
 "nbformat_minor": 2
}
